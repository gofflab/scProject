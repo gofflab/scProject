{
 "cells": [
  {
   "attachments": {},
   "cell_type": "markdown",
   "id": "98620dd2",
   "metadata": {},
   "source": [
    "# Feature Plots and UMAP Demonstration\n",
    "This notebook demonstrates the use of featurePlots and UMAP_Projection functions in scProject."
   ]
  },
  {
   "attachments": {},
   "cell_type": "markdown",
   "id": "a0a8fa54",
   "metadata": {},
   "source": [
    "All data that are analyzed in the provided .ipynb files are stored in 'data' subfolder, with the exception of 'p6counts.h5ad'. The cell below downloads 'p6counts.h5ad' into that folder."
   ]
  },
  {
   "cell_type": "code",
   "execution_count": null,
   "id": "f9714eb3",
   "metadata": {},
   "outputs": [],
   "source": [
    "import os\n",
    "\n",
    "file_path = 'data/p6counts.h5ad'\n",
    "\n",
    "if not os.path.exists(file_path):\n",
    "    !mkdir -p data\n",
    "    !wget -P data https://us-east-2-scprojectdata.s3.us-east-2.amazonaws.com/p6mouse/p6counts.h5ad"
   ]
  },
  {
   "cell_type": "code",
   "execution_count": null,
   "id": "responsible-cradle",
   "metadata": {},
   "outputs": [],
   "source": [
    "import random\n",
    "random.seed(a=613)\n",
    "import numpy as np\n",
    "import scProject\n",
    "import scanpy as sc\n",
    "patterns = sc.read_h5ad('data/patterns_anndata.h5ad')\n",
    "dataset = sc.read_h5ad('data/p6counts.h5ad')\n",
    "dataset_filtered, patterns_filtered = scProject.matcher.filterAnnDatas(dataset, patterns, 'id')\n",
    "print(dataset.shape)\n",
    "\n",
    "\n",
    "import matplotlib.pyplot as plt\n",
    "from sklearn import linear_model\n",
    "plt.rcParams['figure.figsize']= [10, 12]\n",
    "dataset_filtered = scProject.matcher.logTransform(dataset_filtered)\n",
    "scProject.rg.NNLR_ElasticNet(dataset_filtered, patterns_filtered, 'MG01', .0001, .01, layer='log', iterations=100000)\n",
    "scProject.viz.pearsonMatrix(dataset_filtered, patterns_filtered, 'assigned_cell_type', 11, 'MG01', 'MG01Pears', True, display=False, path='CommonCoordinatePlots/PearsonLowReg.pdf')\n",
    "\n",
    "\n",
    "plt.rcParams['figure.figsize']= [12, 10]\n",
    "scProject.viz.UMAP_Projection(dataset_filtered, 'assigned_cell_type', 'MG01', 'UMAPMG01', 20, display=False, path='CommonCoordinatePlots/UMAPlowReg.pdf')\n",
    "\n",
    "\n",
    "scProject.viz.featurePlots(dataset_filtered, 80 , 'MG01', 'UMAPMG01', display=False, path='CommonCoordinatePlots/LowRegF')\n",
    "\n",
    "\n",
    "\n",
    "import matplotlib.pyplot as plt\n",
    "plt.rcParams['figure.figsize']= [12, 10]\n",
    "scProject.rg.NNLR_ElasticNet(dataset_filtered, patterns_filtered, 'MG99', .0005, .99, layer='log')\n",
    "scProject.viz.pearsonMatrix(dataset_filtered, patterns_filtered, 'assigned_cell_type', 11, 'MG99', 'MG99Pears', True,display=False,row_cluster=False, col_cluster=False,path='CommonCoordinatePlots/PearsonHighReg.pdf')\n",
    "\n",
    "scProject.viz.featurePlots(dataset_filtered, 80, 'MG99', 'UMAPMG01',display=False, path='CommonCoordinatePlots/LowRegUMAPHighRegWeightsF')"
   ]
  }
 ],
 "metadata": {
  "kernelspec": {
   "display_name": "Python 3",
   "language": "python",
   "name": "python3"
  },
  "language_info": {
   "codemirror_mode": {
    "name": "ipython",
    "version": 3
   },
   "file_extension": ".py",
   "mimetype": "text/x-python",
   "name": "python",
   "nbconvert_exporter": "python",
   "pygments_lexer": "ipython3",
   "version": "3.7.10"
  }
 },
 "nbformat": 4,
 "nbformat_minor": 5
}
