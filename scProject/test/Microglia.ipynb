{
 "cells": [
  {
   "attachments": {},
   "cell_type": "markdown",
   "metadata": {},
   "source": [
    "# Feature Extraction Analysis for Microglia in P6 mouse Cortex\n",
    "In this notebook, we provide a brief guide as to how the dataset and patterns are used and analyzed using scProject."
   ]
  },
  {
   "cell_type": "code",
   "execution_count": null,
   "metadata": {
    "scrolled": true
   },
   "outputs": [],
   "source": [
    "import random\n",
    "random.seed(a=613)\n",
    "import numpy as np\n",
    "import scProject\n",
    "import scanpy as sc\n",
    "patterns = sc.read_h5ad('data/patterns_anndata.h5ad')\n",
    "dataset = sc.read_h5ad('data/p6counts.h5ad')\n",
    "dataset_filtered, patterns_filtered = scProject.matcher.filterAnnDatas(dataset, patterns, 'id')\n",
    "print(dataset.shape)"
   ]
  },
  {
   "attachments": {},
   "cell_type": "markdown",
   "metadata": {},
   "source": [
    "Applying low regularization low 1% lasso as shown below:"
   ]
  },
  {
   "cell_type": "code",
   "execution_count": null,
   "metadata": {
    "scrolled": true
   },
   "outputs": [],
   "source": [
    "import matplotlib.pyplot as plt\n",
    "from sklearn import linear_model\n",
    "plt.rcParams['figure.figsize']= [10, 12]\n",
    "dataset_filtered = scProject.matcher.logTransform(dataset_filtered)\n",
    "scProject.rg.NNLR_ElasticNet(dataset_filtered, patterns_filtered, 'MG01', .0001, .01, layer='log', iterations=100000)\n",
    "scProject.viz.pearsonMatrix(dataset_filtered, patterns_filtered, 'assigned_cell_type', 11, 'MG01', 'MG01Pears', True, display=False, path='MG/PearsonMicrgliaLowReg.pdf')"
   ]
  },
  {
   "cell_type": "code",
   "execution_count": null,
   "metadata": {
    "scrolled": false
   },
   "outputs": [],
   "source": [
    "plt.rcParams['figure.figsize']= [12, 10]\n",
    "scProject.viz.UMAP_Projection(dataset_filtered, 'assigned_cell_type', 'MG01', 'UMAPMG01', 20, display=False, path='MG/UMAPlowReg.pdf')"
   ]
  },
  {
   "cell_type": "code",
   "execution_count": null,
   "metadata": {
    "scrolled": false
   },
   "outputs": [],
   "source": [
    "scProject.viz.featurePlots(dataset_filtered, [24,5,6,25,57,58] , 'MG01', 'UMAPMG01', display=False, path='MG/MGLowReg')"
   ]
  },
  {
   "attachments": {},
   "cell_type": "markdown",
   "metadata": {},
   "source": [
    "As expected from the Pearson plot, features 5 and 24 are the stronger markers of microglia in the P6 mouse cortex. Lets up the lasso to encourage sparsity and strengthen the features that are the real drivers."
   ]
  },
  {
   "cell_type": "code",
   "execution_count": null,
   "metadata": {
    "scrolled": true
   },
   "outputs": [],
   "source": [
    "import matplotlib.pyplot as plt\n",
    "plt.rcParams['figure.figsize']= [10, 12]\n",
    "scProject.rg.NNLR_ElasticNet(dataset_filtered, patterns_filtered, 'MG99', .0005, .99, layer='log')\n",
    "scProject.viz.pearsonMatrix(dataset_filtered, patterns_filtered, 'assigned_cell_type', 11, 'MG99', 'MG99Pears', True,display=False,row_cluster=False, col_cluster=False,path='MG/MicrogliaPearsonHighReg.pdf')"
   ]
  },
  {
   "cell_type": "code",
   "execution_count": null,
   "metadata": {
    "scrolled": true
   },
   "outputs": [],
   "source": [
    "plt.rcParams['figure.figsize']= [12, 10]\n",
    "scProject.viz.UMAP_Projection(dataset_filtered, 'assigned_cell_type', 'MG99', 'UMAPMG99', 20,display=False, path='MG/UMAPMGHighReg.pdf')"
   ]
  },
  {
   "attachments": {},
   "cell_type": "markdown",
   "metadata": {},
   "source": [
    "One nice feature of scProject is that you can use the UMAP coordinates generated from a previous regression. This can be useful when you increase the regularization and the UMAPs become harder to decipher. These are the feature plots, but on the original UMAP coordinates."
   ]
  },
  {
   "cell_type": "code",
   "execution_count": null,
   "metadata": {
    "scrolled": true
   },
   "outputs": [],
   "source": [
    "scProject.viz.featurePlots(dataset_filtered, [24,5,6,25,57,58], 'MG99', 'UMAPMG01',display=False, path='MG/MGHighReg')"
   ]
  },
  {
   "attachments": {},
   "cell_type": "markdown",
   "metadata": {},
   "source": [
    "This is the typical feature weights on a newly generated UMAP coordinate system."
   ]
  },
  {
   "cell_type": "code",
   "execution_count": null,
   "metadata": {
    "scrolled": true
   },
   "outputs": [],
   "source": [
    "scProject.viz.featurePlots(dataset_filtered, [24,5,6,25,57,58], 'MG99', 'UMAPMG99', obsColumn='assigned_cell_type',display=False,path='MG/f5Micro')"
   ]
  },
  {
   "attachments": {},
   "cell_type": "markdown",
   "metadata": {},
   "source": [
    "While this is clearly over regularized some features 5, 6 and 75(because of how many nonzero cells) persist. Lets print out the highest expressed genes from the features of interest and see what's inside."
   ]
  },
  {
   "cell_type": "code",
   "execution_count": null,
   "metadata": {
    "scrolled": false
   },
   "outputs": [],
   "source": [
    "print(scProject.stats.importantGenes(patterns_filtered, 5, .05), \"Feature 5 Genes\")\n",
    "print(scProject.stats.importantGenes(patterns_filtered, 6, .05), \"Feature 6 Genes\")\n",
    "print(scProject.stats.importantGenes(patterns_filtered, 24, .1), \"Feature 24 Genes\")\n",
    "print(scProject.stats.importantGenes(patterns_filtered, 57, .01), \"Feature 57 Genes\")"
   ]
  },
  {
   "attachments": {},
   "cell_type": "markdown",
   "metadata": {},
   "source": [
    "In short, Feature 24 which is expressed in a fraction of microglia has high expression of C1qa, C1qb, C1qc genes. Feature 24 is not included in all of the microglia suggesting that there exists a subtype of microglia in the P6 mouse cortex that expresses C1qa through c in much higher amounts. Features 5, 6, and 75 do not have the C1qs expressed in their most important genes. This shows a subtyping of microglia in terms of expression of C1q expression."
   ]
  },
  {
   "attachments": {},
   "cell_type": "markdown",
   "metadata": {},
   "source": [
    "To better understand the expression of C1q a-c, lets use gene selectivity to understand what the model is doing."
   ]
  },
  {
   "cell_type": "code",
   "execution_count": null,
   "metadata": {
    "scrolled": true
   },
   "outputs": [],
   "source": [
    "scProject.stats.geneSelectivity(patterns_filtered, 'ENSMUSG00000036887', 5, False) #C1qa\n",
    "scProject.stats.geneSelectivity(patterns_filtered, 'ENSMUSG00000036887', 6, False) #C1qa\n",
    "scProject.stats.geneSelectivity(patterns_filtered, 'ENSMUSG00000036887', 24, True) #C1qa\n",
    "\n",
    "scProject.stats.geneSelectivity(patterns_filtered, 'ENSMUSG00000036905', 5, False) #C1qb\n",
    "scProject.stats.geneSelectivity(patterns_filtered, 'ENSMUSG00000036905', 6, False) #C1qb\n",
    "scProject.stats.geneSelectivity(patterns_filtered, 'ENSMUSG00000036905', 24, True) #C1qb\n",
    "\n",
    "scProject.stats.geneSelectivity(patterns_filtered, 'ENSMUSG00000036896', 5, False) #C1qc\n",
    "scProject.stats.geneSelectivity(patterns_filtered, 'ENSMUSG00000036896', 6, False) #C1qc\n",
    "scProject.stats.geneSelectivity(patterns_filtered, 'ENSMUSG00000036896', 24, True) #C1qc\n",
    "\n",
    "scProject.stats.geneDriver(dataset_filtered, patterns_filtered, 'ENSMUSG00000036887', 'assigned_cell_type',\n",
    "                                       \"Microglia\", \"MG99\")\n",
    "scProject.stats.geneDriver(dataset_filtered, patterns_filtered, 'ENSMUSG00000036905', 'assigned_cell_type',\n",
    "                                       \"Microglia\", \"MG99\")\n",
    "scProject.stats.geneDriver(dataset_filtered, patterns_filtered, 'ENSMUSG00000036896', 'assigned_cell_type',\n",
    "                                       \"Microglia\", \"MG99\")"
   ]
  },
  {
   "cell_type": "code",
   "execution_count": null,
   "metadata": {
    "scrolled": true
   },
   "outputs": [],
   "source": [
    "scProject.stats.geneSelectivity(patterns_filtered, 'ENSMUSG00000059498', 24, True)"
   ]
  },
  {
   "attachments": {},
   "cell_type": "markdown",
   "metadata": {},
   "source": [
    "The model chose the best features to use in the samples. As we saw in the previous plots, feature 5 is the largest driver of microglia. It is important to note that these plots take the average of all of the cells annotated as microglia, but from the feature plots we know that some microglia express more of feature 6 and others more feature 24. The first plots clearly show that feature 24 expresses much more of all three genes. Next, we show the utility of the stats in scProject to see which genes are driving the difference between subtypes. Below, I split the microglia into two groups based on their expression of feature 6."
   ]
  },
  {
   "cell_type": "code",
   "execution_count": null,
   "metadata": {
    "scrolled": true
   },
   "outputs": [],
   "source": [
    "# histograms to see expression of feature 24 and 57 in microglia\n",
    "plt.rcParams['figure.figsize']= [12, 10]\n",
    "scProject.viz.patternWeightDistribution(dataset_filtered, 'MG01', [24,25, 57,58], obsColumn='assigned_cell_type', subset=['Microglia'], numBins=100)"
   ]
  },
  {
   "cell_type": "code",
   "execution_count": null,
   "metadata": {},
   "outputs": [],
   "source": [
    "import numpy as np\n",
    "microglia= dataset_filtered[dataset_filtered.obs['assigned_cell_type'].isin(['Microglia'])].copy()\n",
    "others= dataset_filtered.obs['assigned_cell_type'].unique().remove_categories('Microglia')\n",
    "rest = dataset_filtered[dataset_filtered.obs['assigned_cell_type'].isin(list(others))].copy()\n",
    "print(microglia.shape, rest.shape, dataset_filtered.shape)\n",
    "\n",
    "microglia.X = np.log2(microglia.X + 1e-30) #log transform for statistical tests\n",
    "rest.X = np.log2(rest.X + 1e-30) #log transform for statistcal tests\n",
    "\n",
    "plt.rcParams['figure.figsize'] = [5,50]\n",
    "df24 = scProject.stats.projectionDriver(patterns_filtered, microglia, rest,.999999999999,'gene_short_name', 24, display=False, path='MG/Micro24Driver.pdf')\n",
    "\n",
    "f24CIs = df24[0]\n",
    "\n",
    "f24CIs['rank'] = (f24CIs['High']+f24CIs['Low'])/2.0\n",
    "f24CIsRank = f24CIs.sort_values(by='rank', ascending=True)\n",
    "counter = 0\n",
    "yAxis = []\n",
    "plt.rcParams['figure.figsize']= [4, 50]\n",
    "for idx,low, high,y in zip(list(f24CIsRank.index) ,f24CIsRank['Low'], f24CIsRank['High'], range(len(f24CIsRank))):\n",
    "    plt.plot((low, high), (counter, counter), '-', color='blue')\n",
    "    if counter == 0:\n",
    "        plt.plot((float(low+high)/2.0), counter,'o', color='blue', label='Mean')\n",
    "    else:\n",
    "        plt.plot((float(low+high)/2.0), counter,'o', color='blue')\n",
    "    yAxis.append(idx)\n",
    "    counter+=1\n",
    "\n",
    "plt.yticks(range(len(yAxis)), yAxis)\n",
    "plt.title(\"Microglia Feature 24 Ranked\")\n",
    "plt.plot((0,0), (0,len(yAxis)), '--', color='black')\n",
    "plt.ylim(top= len(yAxis)+1)\n",
    "plt.ylim(bottom=-1)\n",
    "plt.legend()\n",
    "\n",
    "import os\n",
    "# Directory path and filename\n",
    "directory = \"MG\"\n",
    "filename = \"Microglia24Ranked.pdf\"\n",
    "\n",
    "# Create the directory if it doesn't exist\n",
    "if not os.path.exists(directory):\n",
    "    os.makedirs(directory)\n",
    "\n",
    "# Combine directory and filename to create the full file path\n",
    "file_path = os.path.join(directory, filename)\n",
    "\n",
    "# Save the figure\n",
    "plt.savefig(file_path, bbox_inches='tight')\n",
    "plt.show()"
   ]
  },
  {
   "cell_type": "code",
   "execution_count": null,
   "metadata": {},
   "outputs": [],
   "source": [
    "plt.rcParams['figure.figsize']= [5,50]\n",
    "df57 = scProject.stats.projectionDriver(patterns_filtered, microglia, rest,.999999999999,'gene_short_name', 57, display=True, path='MG/Micro57Driver.pdf')\n",
    "\n",
    "f57CIs = df57[0]\n",
    "\n",
    "f57CIs['rank'] = (f57CIs['High']+f57CIs['Low'])/2.0\n",
    "f57CIsRank = f57CIs.sort_values(by='rank', ascending=True)\n",
    "counter = 0\n",
    "yAxis = []\n",
    "plt.rcParams['figure.figsize']= [4, 55]\n",
    "for idx,low, high,y in zip(list(f57CIsRank.index) ,f57CIsRank['Low'], f57CIsRank['High'], range(len(f57CIsRank))):\n",
    "    plt.plot((low, high), (counter, counter), '-', color='blue')\n",
    "    if counter is 0:\n",
    "        plt.plot((float(low+high)/2.0), counter,'o', color='blue', label='Mean')\n",
    "    else:\n",
    "        plt.plot((float(low+high)/2.0), counter,'o', color='blue')\n",
    "    yAxis.append(idx)\n",
    "    counter+=1\n",
    "\n",
    "plt.yticks(range(len(yAxis)), yAxis)\n",
    "plt.title(\"Microglia Feature 57 Ranked\")\n",
    "plt.plot((0,0), (0,len(yAxis)), '--', color='black')\n",
    "plt.ylim(top= len(yAxis)+1)\n",
    "plt.ylim(bottom=-1)\n",
    "plt.legend()\n",
    "\n",
    "import os\n",
    "# Directory path and filename\n",
    "directory = \"MG\"\n",
    "filename = \"Microglia57Ranked.pdf\"\n",
    "\n",
    "# Create the directory if it doesn't exist\n",
    "if not os.path.exists(directory):\n",
    "    os.makedirs(directory)\n",
    "\n",
    "# Combine directory and filename to create the full file path\n",
    "file_path = os.path.join(directory, filename)\n",
    "\n",
    "plt.savefig(file_path, bbox_inches='tight')\n",
    "plt.show() # Blank plot"
   ]
  },
  {
   "cell_type": "code",
   "execution_count": 15,
   "metadata": {},
   "outputs": [],
   "source": [
    "genes24 = set(df24[0].index)\n",
    "genes57 = set(df57[0].index)"
   ]
  },
  {
   "cell_type": "code",
   "execution_count": null,
   "metadata": {},
   "outputs": [],
   "source": [
    "in24 = genes24.difference(genes57)\n",
    "just24CIs = df24[0].loc[list(in24)]\n",
    "\n",
    "just24CIs['rank'] = (just24CIs['High']+just24CIs['Low'])/2.0\n",
    "just24CIsRank = just24CIs.sort_values(by='rank', ascending=True)\n",
    "counter = 0\n",
    "yAxis = []\n",
    "plt.rcParams['figure.figsize']= [4, 8]\n",
    "for idx,low, high,y in zip(list(just24CIsRank.index) ,just24CIsRank['Low'], just24CIsRank['High'], range(len(just24CIsRank))):\n",
    "    plt.plot((low, high), (counter, counter), '-', color='blue')\n",
    "    if counter is 0:\n",
    "        plt.plot((float(low+high)/2.0), counter,'o', color='blue', label='Mean')\n",
    "    else:\n",
    "        plt.plot((float(low+high)/2.0), counter,'o', color='blue')\n",
    "    yAxis.append(idx)\n",
    "    counter+=1\n",
    "\n",
    "plt.yticks(range(len(yAxis)), yAxis)\n",
    "plt.title(\"Microglia Feature 24 Exclusive Ranked\")\n",
    "plt.plot((0,0), (0,len(yAxis)), '--', color='black')\n",
    "plt.ylim(top= len(yAxis)+1)\n",
    "plt.ylim(bottom=-1)\n",
    "plt.legend()\n",
    "\n",
    "import os\n",
    "# Directory path and filename\n",
    "directory = \"MG\"\n",
    "filename = \"JustMicroglia24.pdf\"\n",
    "\n",
    "# Create the directory if it doesn't exist\n",
    "if not os.path.exists(directory):\n",
    "    os.makedirs(directory)\n",
    "\n",
    "# Combine directory and filename to create the full file path\n",
    "file_path = os.path.join(directory, filename)\n",
    "\n",
    "plt.savefig(file_path, bbox_inches='tight')\n",
    "plt.show()"
   ]
  },
  {
   "cell_type": "code",
   "execution_count": null,
   "metadata": {},
   "outputs": [],
   "source": [
    "in57 = genes57.difference(genes24)\n",
    "just57CIs = df57[0].loc[list(in57)]\n",
    "\n",
    "just57CIs['rank'] = (just57CIs['High']+just57CIs['Low'])/2.0\n",
    "just57CIsRank = just57CIs.sort_values(by='rank', ascending=True)\n",
    "counter = 0\n",
    "yAxis = []\n",
    "plt.rcParams['figure.figsize']= [4, 30]\n",
    "for idx,low, high,y in zip(list(just57CIsRank.index) ,just57CIsRank['Low'], just57CIsRank['High'], range(len(just57CIsRank))):\n",
    "    plt.plot((low, high), (counter, counter), '-', color='blue')\n",
    "    if counter is 0:\n",
    "        plt.plot((float(low+high)/2.0), counter,'o', color='blue', label='Mean')\n",
    "    else:\n",
    "        plt.plot((float(low+high)/2.0), counter,'o', color='blue')\n",
    "    yAxis.append(idx)\n",
    "    counter+=1\n",
    "\n",
    "plt.yticks(range(len(yAxis)), yAxis)\n",
    "plt.title(\"Microglia Feature 57 Exclusive Ranked\")\n",
    "plt.plot((0,0), (0,len(yAxis)), '--', color='black')\n",
    "plt.ylim(top= len(yAxis)+1)\n",
    "plt.ylim(bottom=-1)\n",
    "plt.legend()\n",
    "\n",
    "import os\n",
    "# Directory path and filename\n",
    "directory = \"MG\"\n",
    "filename = \"JustMicroglia57.pdf\"\n",
    "\n",
    "# Create the directory if it doesn't exist\n",
    "if not os.path.exists(directory):\n",
    "    os.makedirs(directory)\n",
    "\n",
    "# Combine directory and filename to create the full file path\n",
    "file_path = os.path.join(directory, filename)\n",
    "\n",
    "plt.savefig(file_path, bbox_inches='tight')\n",
    "plt.show()"
   ]
  },
  {
   "cell_type": "code",
   "execution_count": null,
   "metadata": {},
   "outputs": [],
   "source": [
    "import numpy as np\n",
    "microglia= dataset_filtered[dataset_filtered.obs['assigned_cell_type'].isin(['Microglia'])].copy()\n",
    "others= dataset_filtered.obs['assigned_cell_type'].unique().remove_categories('Microglia')\n",
    "rest = dataset_filtered[dataset_filtered.obs['assigned_cell_type'].isin(list(others))].copy()\n",
    "print(microglia.shape, rest.shape, dataset_filtered.shape)\n",
    "\n",
    "microglia.X = np.log2(microglia.X + 1e-30) #log transform for statistical tests\n",
    "rest.X = np.log2(rest.X + 1e-30) #log transform for statistcal tests\n",
    "\n",
    "plt.rcParams['figure.figsize']= [5,50]\n",
    "\n",
    "df58 = scProject.stats.projectionDriver(patterns_filtered, microglia, rest,.999999999999,'gene_short_name', 58, display=True, path='MG/Micro58Driver.pdf')\n",
    "df25 = scProject.stats.projectionDriver(patterns_filtered, microglia, rest,.999999999999,'gene_short_name', 25, display=True, path='MG/Micro25Driver.pdf')"
   ]
  },
  {
   "cell_type": "code",
   "execution_count": 19,
   "metadata": {},
   "outputs": [],
   "source": [
    "genes24 = set(df24[0].index)\n",
    "genes57 = set(df57[0].index)\n",
    "genes58 = set(df58[0].index)\n",
    "genes25 = set(df25[0].index)"
   ]
  },
  {
   "cell_type": "code",
   "execution_count": null,
   "metadata": {},
   "outputs": [],
   "source": [
    "in25 = genes25.difference(genes57).difference(genes58).difference(genes24)\n",
    "just25CIs = df25[0].loc[list(in25)]\n",
    "\n",
    "just25CIs['rank'] = (just25CIs['High']+just25CIs['Low'])/2.0\n",
    "just25CIsRank = just25CIs.sort_values(by='rank', ascending=True)\n",
    "counter = 0\n",
    "yAxis = []\n",
    "plt.rcParams['figure.figsize']= [4, 8]\n",
    "for idx,low, high,y in zip(list(just25CIsRank.index) ,just25CIsRank['Low'], just25CIsRank['High'], range(len(just25CIsRank))):\n",
    "    plt.plot((low, high), (counter, counter), '-', color='blue')\n",
    "    if counter is 0:\n",
    "        plt.plot((float(low+high)/2.0), counter,'o', color='blue', label='Mean')\n",
    "    else:\n",
    "        plt.plot((float(low+high)/2.0), counter,'o', color='blue')\n",
    "    yAxis.append(idx)\n",
    "    counter+=1\n",
    "\n",
    "plt.yticks(range(len(yAxis)), yAxis)\n",
    "plt.title(\"Microglia Feature 25 Exclusive Ranked\")\n",
    "plt.plot((0,0), (0,len(yAxis)), '--', color='black')\n",
    "plt.ylim(top= len(yAxis)+1)\n",
    "plt.ylim(bottom=-1)\n",
    "plt.legend()\n",
    "\n",
    "import os\n",
    "# Directory path and filename\n",
    "directory = \"MG\"\n",
    "filename = \"25MGvsAll-F57F58F24.pdf\"\n",
    "\n",
    "# Create the directory if it doesn't exist\n",
    "if not os.path.exists(directory):\n",
    "    os.makedirs(directory)\n",
    "\n",
    "# Combine directory and filename to create the full file path\n",
    "file_path = os.path.join(directory, filename)\n",
    "\n",
    "plt.savefig(file_path, bbox_inches='tight')\n",
    "plt.show()"
   ]
  },
  {
   "cell_type": "code",
   "execution_count": null,
   "metadata": {},
   "outputs": [],
   "source": [
    "in57 = genes57.difference(genes24).difference(genes58).difference(genes25)\n",
    "just57CIs = df57[0].loc[list(in57)]\n",
    "\n",
    "just57CIs['rank'] = (just57CIs['High']+just57CIs['Low'])/2.0\n",
    "just57CIsRank = just57CIs.sort_values(by='rank', ascending=True)\n",
    "counter = 0\n",
    "yAxis = []\n",
    "plt.rcParams['figure.figsize']= [4, 8]\n",
    "for idx,low, high,y in zip(list(just57CIsRank.index) ,just57CIsRank['Low'], just57CIsRank['High'], range(len(just57CIsRank))):\n",
    "    plt.plot((low, high), (counter, counter), '-', color='blue')\n",
    "    if counter is 0:\n",
    "        plt.plot((float(low+high)/2.0), counter,'o', color='blue', label='Mean')\n",
    "    else:\n",
    "        plt.plot((float(low+high)/2.0), counter,'o', color='blue')\n",
    "    yAxis.append(idx)\n",
    "    counter+=1\n",
    "\n",
    "plt.yticks(range(len(yAxis)), yAxis)\n",
    "plt.title(\"Microglia Feature 57 Exclusive Ranked\")\n",
    "plt.plot((0,0), (0,len(yAxis)), '--', color='black')\n",
    "plt.ylim(top= len(yAxis)+1)\n",
    "plt.ylim(bottom=-1)\n",
    "plt.legend()\n",
    "\n",
    "import os\n",
    "# Directory path and filename\n",
    "directory = \"MG\"\n",
    "filename = \"57MGvsAll-F25F58F24.pdf\"\n",
    "\n",
    "# Create the directory if it doesn't exist\n",
    "if not os.path.exists(directory):\n",
    "    os.makedirs(directory)\n",
    "\n",
    "# Combine directory and filename to create the full file path\n",
    "file_path = os.path.join(directory, filename)\n",
    "\n",
    "plt.savefig(file_path, bbox_inches='tight')\n",
    "plt.show()"
   ]
  },
  {
   "cell_type": "code",
   "execution_count": null,
   "metadata": {},
   "outputs": [],
   "source": [
    "in58 = genes58.difference(genes57).difference(genes25).difference(genes24)\n",
    "just58CIs = df58[0].loc[list(in58)]\n",
    "\n",
    "just58CIs['rank'] = (just58CIs['High']+just58CIs['Low'])/2.0\n",
    "just58CIsRank = just58CIs.sort_values(by='rank', ascending=True)\n",
    "counter = 0\n",
    "yAxis = []\n",
    "plt.rcParams['figure.figsize']= [4, 8]\n",
    "for idx,low, high,y in zip(list(just58CIsRank.index) ,just58CIsRank['Low'], just58CIsRank['High'], range(len(just58CIsRank))):\n",
    "    plt.plot((low, high), (counter, counter), '-', color='blue')\n",
    "    if counter is 0:\n",
    "        plt.plot((float(low+high)/2.0), counter,'o', color='blue', label='Mean')\n",
    "    else:\n",
    "        plt.plot((float(low+high)/2.0), counter,'o', color='blue')\n",
    "    yAxis.append(idx)\n",
    "    counter+=1\n",
    "\n",
    "plt.yticks(range(len(yAxis)), yAxis)\n",
    "plt.title(\"Microglia Feature 58 Exclusive Ranked\")\n",
    "plt.plot((0,0), (0,len(yAxis)), '--', color='black')\n",
    "plt.ylim(top= len(yAxis)+1)\n",
    "plt.ylim(bottom=-1)\n",
    "plt.legend()\n",
    "\n",
    "import os\n",
    "# Directory path and filename\n",
    "directory = \"MG\"\n",
    "filename = \"58MGvsAll-F57F25F24.pdf\"\n",
    "\n",
    "# Create the directory if it doesn't exist\n",
    "if not os.path.exists(directory):\n",
    "    os.makedirs(directory)\n",
    "\n",
    "# Combine directory and filename to create the full file path\n",
    "file_path = os.path.join(directory, filename)\n",
    "\n",
    "plt.savefig(file_path, bbox_inches='tight')\n",
    "plt.show()"
   ]
  }
 ],
 "metadata": {
  "kernelspec": {
   "display_name": "Python 3",
   "language": "python",
   "name": "python3"
  },
  "language_info": {
   "codemirror_mode": {
    "name": "ipython",
    "version": 3
   },
   "file_extension": ".py",
   "mimetype": "text/x-python",
   "name": "python",
   "nbconvert_exporter": "python",
   "pygments_lexer": "ipython3",
   "version": "3.7.10"
  }
 },
 "nbformat": 4,
 "nbformat_minor": 4
}
