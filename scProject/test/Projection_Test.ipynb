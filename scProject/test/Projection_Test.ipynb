{
 "cells": [
  {
   "attachments": {},
   "cell_type": "markdown",
   "metadata": {},
   "source": [
    "# Projection Test\n",
    "Similar to other notebooks, this one focuses on testing how the patterns and genes from the target patterns are visualized after extraction. Most of the lines are commented, which is trivial since they are repeatedly used in other notebooks."
   ]
  },
  {
   "cell_type": "code",
   "execution_count": null,
   "metadata": {},
   "outputs": [],
   "source": [
    "from scProject import matcher, viz, stats, rg\n",
    "import numpy as np\n",
    "import pandas as pd\n",
    "import scanpy as sc\n",
    "import matplotlib.pyplot as plt"
   ]
  },
  {
   "cell_type": "code",
   "execution_count": null,
   "metadata": {},
   "outputs": [],
   "source": [
    "# matcher.orthologMapper()\n",
    "# print(\"Reading patterns...\", file=sys.stderr)\n",
    "patterns = sc.read_h5ad('data/patterns_anndata.h5ad')\n",
    "print(patterns.X.shape, \"patterns shape\")\n",
    "\n",
    "# print(\"Reading target geneset...\", file=sys.stderr)\n",
    "dataset = sc.read_h5ad('data/test_target.h5ad')\n",
    "print(dataset.X.shape, \"Target shape\")\n",
    "# target.var = target.var.set_index('gene_id')\n",
    "\n",
    "# print(\"Doing projection...\",file=sys.stderr)\n",
    "# projection = scProject.projection.project(target,patterns)"
   ]
  },
  {
   "cell_type": "code",
   "execution_count": null,
   "metadata": {},
   "outputs": [],
   "source": [
    "dataset_filtered, patterns_filtered = matcher.filterAnnDatas(dataset, patterns, 'gene_id')\n",
    "#dataset_filtered, patterns_filtered = matcher.logTransform(dataset_filtered)"
   ]
  },
  {
   "cell_type": "code",
   "execution_count": null,
   "metadata": {
    "scrolled": false
   },
   "outputs": [],
   "source": [
    "# stats.geneSelectivity(patterns_filtered, 'ENSMUSG00000036887', 24)\n",
    "# projection_object.geneSelectivity(patterns_filtered, 'ENSMUSG00000036905', 5)\n",
    "# projection_object.geneSelectivity(patterns_filtered, 'ENSMUSG00000036896', 6)\n",
    "rg.NNLR_ElasticNet(dataset_filtered, patterns_filtered, 'retinaProject', .01, .001)\n",
    "# stats.geneDriver(dataset_filtered, patterns_filtered, 'ENSMUSG00000036896', \"CellType\", \"Brain Fibroblasts\", \"retinaProject\")\n",
    "microglia  = dataset_filtered[dataset_filtered.obs['CellType'].isin(['Microglia'])]\n",
    "print(microglia.shape)\n",
    "C1 = microglia[microglia.obsm['retinaProject'][:, 4] > 1]\n",
    "C2 = microglia[microglia.obsm['retinaProject'][:, 4] <1]\n",
    "print(C1.shape)\n",
    "print(C2.shape)\n",
    "stats.BonferroniCorrectedDifferenceMeans(C1, C2, .9, 'gene_short_name')"
   ]
  },
  {
   "cell_type": "code",
   "execution_count": null,
   "metadata": {
    "scrolled": false
   },
   "outputs": [],
   "source": [
    "# projection_object.NNLR_positive_Lasso(dataset_filtered, patterns_filtered, 'retinaProject', 0.005)\n",
    "# projection_object.NNLR_LeastSquares(dataset_filtered, patterns_filtered, 'retinaProject')\n",
    "# viz.pearsonMatrix(dataset_filtered, patterns_filtered, 'CellType', 12, 'retinaProject', 'PearsonRetina',\n",
    "#                 True, row_cluster=True)\n",
    "#viz.UMAP_Projection(dataset_filtered, 'CellType', 'retinaProject', 'retinaUMAP', 10)\n",
    "# stats.featureImportance(dataset_filtered, 80, 'retinaProject')\n",
    "#viz.featurePlots(dataset_filtered, [9], 'retinaProject', 'retinaUMAP')"
   ]
  }
 ],
 "metadata": {
  "kernelspec": {
   "display_name": "Python 3",
   "language": "python",
   "name": "python3"
  },
  "language_info": {
   "codemirror_mode": {
    "name": "ipython",
    "version": 3
   },
   "file_extension": ".py",
   "mimetype": "text/x-python",
   "name": "python",
   "nbconvert_exporter": "python",
   "pygments_lexer": "ipython3",
   "version": "3.7.6"
  }
 },
 "nbformat": 4,
 "nbformat_minor": 4
}
