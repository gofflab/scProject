{
 "cells": [
  {
   "attachments": {},
   "cell_type": "markdown",
   "metadata": {},
   "source": [
    "# Astrocytes and Radial Glia Analysis\n",
    "This notebook is for the analysis of the astrocytes and radial glia in the dataset. Specifically, we are looking at the expression of the genes that are specific to astrocytes and radial glia."
   ]
  },
  {
   "cell_type": "code",
   "execution_count": null,
   "metadata": {},
   "outputs": [],
   "source": [
    "import scProject\n",
    "import scanpy as sc\n",
    "patterns = sc.read_h5ad('data/patterns_anndata.h5ad')\n",
    "dataset = sc.read_h5ad('data/test_target.h5ad')\n",
    "dataset_filtered, patterns_filtered = scProject.matcher.filterAnnDatas(dataset, patterns, 'gene_id')"
   ]
  },
  {
   "attachments": {},
   "cell_type": "markdown",
   "metadata": {},
   "source": [
    "Perfrom a regression with .001 weight of regularization and 1% lasso to encourage as many features to show and then we can weed them out by increasing the amount of lasso and regularization"
   ]
  },
  {
   "cell_type": "code",
   "execution_count": null,
   "metadata": {},
   "outputs": [],
   "source": [
    "import matplotlib.pyplot as plt\n",
    "plt.rcParams['figure.figsize']= [10, 12]\n",
    "scProject.rg.NNLR_ElasticNet(dataset_filtered, patterns_filtered, 'ARG01', .001, .01)\n",
    "scProject.viz.pearsonMatrix(dataset_filtered, patterns_filtered, 'CellType', 12, 'ARG01', 'PearsARG01', True)"
   ]
  },
  {
   "cell_type": "code",
   "execution_count": null,
   "metadata": {},
   "outputs": [],
   "source": [
    "plt.rcParams['figure.figsize']= [12, 10]\n",
    "scProject.viz.UMAP_Projection(dataset_filtered, 'CellType', 'ARG01', 'UMAPARG01', 20)"
   ]
  },
  {
   "cell_type": "code",
   "execution_count": null,
   "metadata": {
    "scrolled": false
   },
   "outputs": [],
   "source": [
    "scProject.viz.featurePlots(dataset_filtered, [3, 45, 64, 68, 78], 'ARG01', 'UMAPARG01')"
   ]
  },
  {
   "attachments": {},
   "cell_type": "markdown",
   "metadata": {},
   "source": [
    "These features seem like very strong markers except for feature 78 as it also has the lowest pearson value. If we up the lasso we will be able to get a better sense of the strong features."
   ]
  },
  {
   "cell_type": "code",
   "execution_count": null,
   "metadata": {},
   "outputs": [],
   "source": [
    "plt.rcParams['figure.figsize']= [10, 12]\n",
    "scProject.rg.NNLR_ElasticNet(dataset_filtered, patterns_filtered, 'ARG99', .0001, .99)\n",
    "scProject.viz.pearsonMatrix(dataset_filtered, patterns_filtered, 'CellType', 12, 'ARG99', 'PearsARG99', True, False)"
   ]
  },
  {
   "cell_type": "code",
   "execution_count": null,
   "metadata": {},
   "outputs": [],
   "source": [
    "plt.rcParams['figure.figsize']= [12, 10]\n",
    "scProject.viz.UMAP_Projection(dataset_filtered, 'CellType', 'ARG99', 'UMAPARG99', 20)"
   ]
  },
  {
   "cell_type": "code",
   "execution_count": null,
   "metadata": {},
   "outputs": [],
   "source": [
    "scProject.viz.featurePlots(dataset_filtered, [3, 45, 64, 68, 78], 'ARG99', 'UMAPARG99')"
   ]
  },
  {
   "attachments": {},
   "cell_type": "markdown",
   "metadata": {},
   "source": [
    "Features 3 and 78 clearly dropped out, which shows that while they may be expressed in astrocytes and radial glia they are not the core of the cell type as they are not as necessary in reconstructing the cell type as the other features that persisted. This is a perfect example of the model being forced to choose the most important features."
   ]
  },
  {
   "attachments": {},
   "cell_type": "markdown",
   "metadata": {},
   "source": [
    "Lastly, lets up the regularization while keeping the lasso high to see what happens."
   ]
  },
  {
   "cell_type": "code",
   "execution_count": null,
   "metadata": {},
   "outputs": [],
   "source": [
    "plt.rcParams['figure.figsize']= [10, 12]\n",
    "scProject.rg.NNLR_ElasticNet(dataset_filtered, patterns_filtered, 'ARGHigh', .00025, .99)\n",
    "scProject.viz.pearsonMatrix(dataset_filtered, patterns_filtered, 'CellType', 12, 'ARGHigh', 'PearsARGHigh', True, False)"
   ]
  },
  {
   "cell_type": "code",
   "execution_count": null,
   "metadata": {},
   "outputs": [],
   "source": [
    "plt.rcParams['figure.figsize']= [12, 10]\n",
    "scProject.viz.UMAP_Projection(dataset_filtered, 'CellType', 'ARGHigh', 'UMAPARGHigh', 20)"
   ]
  },
  {
   "cell_type": "code",
   "execution_count": null,
   "metadata": {},
   "outputs": [],
   "source": [
    "scProject.viz.featurePlots(dataset_filtered, [3, 45, 64, 68, 78], 'ARGHigh', 'UMAPARGHigh')"
   ]
  },
  {
   "attachments": {},
   "cell_type": "markdown",
   "metadata": {},
   "source": [
    "This clearly shows us that features 64 and 68 are the most robust markers of astrocytes/radial glia in the cortex. Lastly, let's check the highest expressed genes to understand the biology. Feature 45 plays a role so let's print those genes as well."
   ]
  },
  {
   "cell_type": "code",
   "execution_count": null,
   "metadata": {},
   "outputs": [],
   "source": [
    "print(scProject.stats.importantGenes(patterns_filtered, 45, .1), \"Feature 45 Genes\")\n",
    "print(scProject.stats.importantGenes(patterns_filtered, 64, .145), \"Feature 64 Genes\")\n",
    "print(scProject.stats.importantGenes(patterns_filtered, 68, .3), \"Feature 68 Genes\")"
   ]
  },
  {
   "attachments": {},
   "cell_type": "markdown",
   "metadata": {},
   "source": [
    "These are ensemble ids so https://www.syngoportal.org/convert.html was used to convert them to gene names.\n",
    "#### Feature 45: \n",
    "ENSMUSG00000027447\tcystatin C <br>\n",
    "ENSMUSG00000026385\tdiazepam binding inhibitor <br>\n",
    "ENSMUSG00000092341\tmetastasis associated lung adenocarcinoma transcript 1 (non-coding RNA) <br>\n",
    "#### Feature 64:\n",
    "ENSMUSG00000000184\tcyclin D2<br>\n",
    "ENSMUSG00000027447\tcystatin C<br>\n",
    "ENSMUSG00000026385\tdiazepam binding inhibitor<br>\n",
    "ENSMUSG00000000031\tH19, imprinted maternally expressed transcript<br>\n",
    "ENSMUSG00000029838\tpleiotrophin<br>\n",
    "#### Feature 68:\n",
    "ENSMUSG00000027447\tcystatin C<br>\n",
    "ENSMUSG00000092341\tmetastasis associated lung adenocarcinoma transcript 1 (non-coding RNA)<br>\n",
    "It is worth noting that all three features have cystatin C which is known to be expressed in astrocytes. Also, Diazepam binding inhibitor is known to be expressed in astrocytes. These features make sense that they would be expressed in astrocytes. \n"
   ]
  }
 ],
 "metadata": {
  "kernelspec": {
   "display_name": "Python 3",
   "language": "python",
   "name": "python3"
  },
  "language_info": {
   "codemirror_mode": {
    "name": "ipython",
    "version": 3
   },
   "file_extension": ".py",
   "mimetype": "text/x-python",
   "name": "python",
   "nbconvert_exporter": "python",
   "pygments_lexer": "ipython3",
   "version": "3.10.7"
  }
 },
 "nbformat": 4,
 "nbformat_minor": 4
}
