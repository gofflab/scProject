{
 "cells": [
  {
   "cell_type": "code",
   "execution_count": null,
   "metadata": {},
   "outputs": [],
   "source": [
    "!wget https://us-east-2-scprojectdata.s3.us-east-2.amazonaws.com/p6mouse/patterns_anndata.h5ad"
   ]
  },
  {
   "cell_type": "code",
   "execution_count": 4,
   "metadata": {},
   "outputs": [
    {
     "name": "stdout",
     "output_type": "stream",
     "text": [
      "Requirement already satisfied: scanpy in /Users/asherbaraban/opt/anaconda3/lib/python3.7/site-packages (1.4.4.post1)\n",
      "Requirement already satisfied: pandas>=0.21 in /Users/asherbaraban/opt/anaconda3/lib/python3.7/site-packages (from scanpy) (1.0.1)\n",
      "Requirement already satisfied: h5py in /Users/asherbaraban/opt/anaconda3/lib/python3.7/site-packages (from scanpy) (2.10.0)\n",
      "Requirement already satisfied: natsort in /Users/asherbaraban/opt/anaconda3/lib/python3.7/site-packages (from scanpy) (7.0.1)\n",
      "Requirement already satisfied: tables in /Users/asherbaraban/opt/anaconda3/lib/python3.7/site-packages (from scanpy) (3.6.1)\n",
      "Requirement already satisfied: statsmodels>=0.10.0rc2 in /Users/asherbaraban/opt/anaconda3/lib/python3.7/site-packages (from scanpy) (0.11.0)\n",
      "Requirement already satisfied: networkx in /Users/asherbaraban/opt/anaconda3/lib/python3.7/site-packages (from scanpy) (2.4)\n",
      "Requirement already satisfied: scipy>=1.3 in /Users/asherbaraban/opt/anaconda3/lib/python3.7/site-packages (from scanpy) (1.4.1)\n",
      "Requirement already satisfied: joblib in /Users/asherbaraban/opt/anaconda3/lib/python3.7/site-packages (from scanpy) (0.14.1)\n",
      "Requirement already satisfied: matplotlib==3.0.* in /Users/asherbaraban/opt/anaconda3/lib/python3.7/site-packages (from scanpy) (3.0.3)\n",
      "Requirement already satisfied: umap-learn>=0.3.0 in /Users/asherbaraban/opt/anaconda3/lib/python3.7/site-packages (from scanpy) (0.4.0)\n",
      "Requirement already satisfied: seaborn in /Users/asherbaraban/opt/anaconda3/lib/python3.7/site-packages (from scanpy) (0.10.0)\n",
      "Requirement already satisfied: numba>=0.41.0 in /Users/asherbaraban/opt/anaconda3/lib/python3.7/site-packages (from scanpy) (0.48.0)\n",
      "Requirement already satisfied: scikit-learn!=0.21.0,!=0.21.1,>=0.19.1 in /Users/asherbaraban/opt/anaconda3/lib/python3.7/site-packages (from scanpy) (0.22.1)\n",
      "Requirement already satisfied: importlib-metadata>=0.7; python_version < \"3.8\" in /Users/asherbaraban/opt/anaconda3/lib/python3.7/site-packages (from scanpy) (1.6.0)\n",
      "Requirement already satisfied: tqdm in /Users/asherbaraban/opt/anaconda3/lib/python3.7/site-packages (from scanpy) (4.42.1)\n",
      "Requirement already satisfied: patsy in /Users/asherbaraban/opt/anaconda3/lib/python3.7/site-packages (from scanpy) (0.5.1)\n",
      "Requirement already satisfied: anndata>=0.6.22rc1 in /Users/asherbaraban/opt/anaconda3/lib/python3.7/site-packages (from scanpy) (0.7.1)\n",
      "Requirement already satisfied: python-dateutil>=2.6.1 in /Users/asherbaraban/opt/anaconda3/lib/python3.7/site-packages (from pandas>=0.21->scanpy) (2.8.1)\n",
      "Requirement already satisfied: numpy>=1.13.3 in /Users/asherbaraban/opt/anaconda3/lib/python3.7/site-packages (from pandas>=0.21->scanpy) (1.18.1)\n",
      "Requirement already satisfied: pytz>=2017.2 in /Users/asherbaraban/opt/anaconda3/lib/python3.7/site-packages (from pandas>=0.21->scanpy) (2019.3)\n",
      "Requirement already satisfied: six in /Users/asherbaraban/opt/anaconda3/lib/python3.7/site-packages (from h5py->scanpy) (1.14.0)\n",
      "Requirement already satisfied: numexpr>=2.6.2 in /Users/asherbaraban/opt/anaconda3/lib/python3.7/site-packages (from tables->scanpy) (2.7.1)\n",
      "Requirement already satisfied: decorator>=4.3.0 in /Users/asherbaraban/opt/anaconda3/lib/python3.7/site-packages (from networkx->scanpy) (4.4.1)\n",
      "Requirement already satisfied: kiwisolver>=1.0.1 in /Users/asherbaraban/opt/anaconda3/lib/python3.7/site-packages (from matplotlib==3.0.*->scanpy) (1.1.0)\n",
      "Requirement already satisfied: cycler>=0.10 in /Users/asherbaraban/opt/anaconda3/lib/python3.7/site-packages (from matplotlib==3.0.*->scanpy) (0.10.0)\n",
      "Requirement already satisfied: pyparsing!=2.0.4,!=2.1.2,!=2.1.6,>=2.0.1 in /Users/asherbaraban/opt/anaconda3/lib/python3.7/site-packages (from matplotlib==3.0.*->scanpy) (2.4.6)\n",
      "Requirement already satisfied: tbb>=2019.0 in /Users/asherbaraban/opt/anaconda3/lib/python3.7/site-packages (from umap-learn>=0.3.0->scanpy) (2019.0)\n",
      "Requirement already satisfied: llvmlite<0.32.0,>=0.31.0dev0 in /Users/asherbaraban/opt/anaconda3/lib/python3.7/site-packages (from numba>=0.41.0->scanpy) (0.31.0)\n",
      "Requirement already satisfied: setuptools in /Users/asherbaraban/.local/lib/python3.7/site-packages (from numba>=0.41.0->scanpy) (50.3.0)\n",
      "Requirement already satisfied: zipp>=0.5 in /Users/asherbaraban/opt/anaconda3/lib/python3.7/site-packages (from importlib-metadata>=0.7; python_version < \"3.8\"->scanpy) (2.2.0)\n",
      "Requirement already satisfied: packaging in /Users/asherbaraban/opt/anaconda3/lib/python3.7/site-packages (from anndata>=0.6.22rc1->scanpy) (20.1)\n",
      "Requirement already up-to-date: scProject in /Users/asherbaraban/opt/anaconda3/lib/python3.7/site-packages (1.0.5)\n",
      "(55371, 428) dataset filter shape\n",
      "(80, 428) patterns filter shape\n"
     ]
    }
   ],
   "source": [
    "! pip install scanpy\n",
    "! pip install scProject -U\n",
    "import scProject\n",
    "import scanpy as sc\n",
    "patterns = sc.read_h5ad('patterns_anndata.h5ad')\n",
    "dataset = sc.read_h5ad('test_target.h5ad')\n",
    "dataset_filtered, patterns_filtered = scProject.matcher.filterAnnDatas(dataset, patterns, 'gene_id')"
   ]
  },
  {
   "cell_type": "code",
   "execution_count": null,
   "metadata": {},
   "outputs": [],
   "source": []
  }
 ],
 "metadata": {
  "kernelspec": {
   "display_name": "Python 3",
   "language": "python",
   "name": "python3"
  },
  "language_info": {
   "codemirror_mode": {
    "name": "ipython",
    "version": 3
   },
   "file_extension": ".py",
   "mimetype": "text/x-python",
   "name": "python",
   "nbconvert_exporter": "python",
   "pygments_lexer": "ipython3",
   "version": "3.7.6"
  }
 },
 "nbformat": 4,
 "nbformat_minor": 4
}
