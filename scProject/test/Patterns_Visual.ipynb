{
 "cells": [
  {
   "attachments": {},
   "cell_type": "markdown",
   "metadata": {},
   "source": [
    "# Patterns Visualization\n",
    "Similar to other notebooks, this one focuses on visualizing the patterns observed in the target patterns, which contains information about Human retina and relates that to P6 mouse cortex."
   ]
  },
  {
   "cell_type": "code",
   "execution_count": null,
   "metadata": {},
   "outputs": [],
   "source": [
    "import random\n",
    "random.seed(a=613)\n",
    "import numpy as np\n",
    "import scProject\n",
    "import scanpy as sc\n",
    "\n",
    "patterns = sc.read('data/hretinaPatterns.csv')\n",
    "dataset = sc.read_h5ad('data/test_target.h5ad')\n",
    "dataset.X[dataset.X<0] = 0\n",
    "scProject.matcher.orthologMapper(dataset, 'data/gene_map.csv','Mouse gene stable ID','Gene stable ID', 'gene_id')\n",
    "dataset_filtered, patterns_filtered = scProject.matcher.filterAnnDatas(dataset, patterns.transpose(), 'gene_id')"
   ]
  },
  {
   "cell_type": "code",
   "execution_count": null,
   "metadata": {},
   "outputs": [],
   "source": [
    "import matplotlib.pyplot as plt\n",
    "plt.rcParams['figure.figsize']= [15, 20]\n",
    "dataset_filtered = scProject.matcher.logTransform(dataset_filtered)\n",
    "scProject.rg.NNLR_ElasticNet(dataset_filtered, patterns_filtered, 'GV01', .00001, .9, layer='log', iterations=1000000)\n",
    "scProject.viz.pearsonMatrix(dataset_filtered, patterns_filtered, 'CellType', 12, 'GV01', 'GV01Pears', True, xtickSize=10, ytickSize=10, row_cluster=False, col_cluster=False)"
   ]
  },
  {
   "cell_type": "code",
   "execution_count": null,
   "metadata": {},
   "outputs": [],
   "source": [
    "plt.rcParams['figure.figsize']= [12, 10]\n",
    "scProject.viz.UMAP_Projection(dataset_filtered, 'CellType', 'GV01', 'UMAPMG01', 20)"
   ]
  },
  {
   "cell_type": "code",
   "execution_count": null,
   "metadata": {
    "scrolled": false
   },
   "outputs": [],
   "source": [
    "plt.rcParams['figure.figsize']= [12, 10]\n",
    "scProject.viz.featurePlots(dataset_filtered, [4, 23], 'GV01', 'UMAPMG01', subset=['Excitatory Neurons'], obsColumn='CellType')"
   ]
  },
  {
   "cell_type": "code",
   "execution_count": null,
   "metadata": {
    "scrolled": false
   },
   "outputs": [],
   "source": [
    "scProject.viz.patternWeightDistribution(dataset_filtered, 'GV01', [4, 23], obsColumn='CellType', subset=['Excitatory Neurons'], numBins=100)"
   ]
  },
  {
   "cell_type": "code",
   "execution_count": null,
   "metadata": {},
   "outputs": [],
   "source": [
    "glia= dataset_filtered[dataset_filtered.obs['CellType'].isin(['Excitatory Neurons'])]\n",
    "# We are now going to construct two clusters of microglia based on feature expression of 5\n",
    "C1 = glia[glia.obsm['GV01'][:, 22] > .3]\n",
    "C2 = glia[glia.obsm['GV01'][:, 22] <= .3]\n",
    "\n",
    "C1.X = np.log1p(C1.X) #log transform for statistical tests\n",
    "C2.X = np.log1p(C2.X) #log transform for statistcal tests\n",
    "\n",
    "# In order to do the regression we had to filter genes, but now we are going to use the whole feature map\n",
    "AllGenes = dataset[dataset.obs['CellType'].isin(['Excitatory Neurons'])]\n",
    "# transfer regression insights\n",
    "AllGenes.obsm['GV01'] = glia.obsm['GV01']\n",
    "\n",
    "cluster1 = AllGenes[glia.obsm['GV01'][:, 22] > .3]\n",
    "cluster2 = AllGenes[glia.obsm['GV01'][:, 22] <=.3]\n",
    "\n",
    "cluster1.X = np.log1p(cluster1.X) #log transform for stats\n",
    "cluster2.X = np.log1p(cluster2.X)\n",
    "\n",
    "print(cluster1.shape, cluster2.shape)"
   ]
  },
  {
   "cell_type": "code",
   "execution_count": null,
   "metadata": {},
   "outputs": [],
   "source": [
    "scProject.stats.featureExpressionSig(C1, 'GV01', 4, .99999999999)"
   ]
  },
  {
   "cell_type": "code",
   "execution_count": null,
   "metadata": {},
   "outputs": [],
   "source": [
    "scProject.stats.HotellingT2(C1, C2)"
   ]
  },
  {
   "cell_type": "code",
   "execution_count": null,
   "metadata": {},
   "outputs": [],
   "source": [
    "plt.rcParams['figure.figsize']= [10,15]\n",
    "df=scProject.stats.projectionDriver(patterns_filtered, C1, C2,.95,'gene_short_name', 96)\n",
    "print(df[0])"
   ]
  }
 ],
 "metadata": {
  "kernelspec": {
   "display_name": "Python 3",
   "language": "python",
   "name": "python3"
  },
  "language_info": {
   "codemirror_mode": {
    "name": "ipython",
    "version": 3
   },
   "file_extension": ".py",
   "mimetype": "text/x-python",
   "name": "python",
   "nbconvert_exporter": "python",
   "pygments_lexer": "ipython3",
   "version": "3.7.6"
  }
 },
 "nbformat": 4,
 "nbformat_minor": 4
}
