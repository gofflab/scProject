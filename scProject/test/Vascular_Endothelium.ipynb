{
 "cells": [
  {
   "attachments": {},
   "cell_type": "markdown",
   "metadata": {},
   "source": [
    "# Vascular Endothelium Analysis\n",
    "This notebook performs scProject analyses onto vascular endothelium cells from the imported data."
   ]
  },
  {
   "attachments": {},
   "cell_type": "markdown",
   "metadata": {},
   "source": [
    "Install Packages read in datasets and only use overlapping genes."
   ]
  },
  {
   "cell_type": "code",
   "execution_count": null,
   "metadata": {
    "scrolled": true
   },
   "outputs": [],
   "source": [
    "import scProject\n",
    "import scanpy as sc\n",
    "import random\n",
    "import numpy as np\n",
    "random.seed(a=613)\n",
    "patterns = sc.read_h5ad('data/patterns_anndata.h5ad')\n",
    "dataset = sc.read_h5ad('data/p6counts.h5ad')\n",
    "dataset_filtered, patterns_filtered = scProject.matcher.filterAnnDatas(dataset, patterns, 'id')"
   ]
  },
  {
   "attachments": {},
   "cell_type": "markdown",
   "metadata": {},
   "source": [
    "Below, we perfrom a regression with .001 weight of regularization and 1% lasso to encourage as many features to show up. Then, with potential features identified, we can establish their robustness by increasing features."
   ]
  },
  {
   "cell_type": "code",
   "execution_count": null,
   "metadata": {},
   "outputs": [],
   "source": [
    "import matplotlib.pyplot as plt\n",
    "plt.rcParams['figure.figsize']= [10, 12]\n",
    "dataset_filtered = scProject.matcher.logTransform(dataset_filtered)\n",
    "scProject.rg.NNLR_ElasticNet(dataset_filtered, patterns_filtered, 'VascEndo', .0001, .01,layer='log', iterations=100000)\n",
    "scProject.viz.pearsonMatrix(dataset_filtered, patterns_filtered, 'assigned_cell_type', 11, 'VascEndo', 'PearsVasc',True)"
   ]
  },
  {
   "cell_type": "code",
   "execution_count": null,
   "metadata": {},
   "outputs": [],
   "source": [
    "plt.rcParams['figure.figsize']= [12, 10]\n",
    "scProject.viz.UMAP_Projection(dataset_filtered, 'assigned_cell_type', 'VascEndo', 'UMAPVasc', 20)"
   ]
  },
  {
   "attachments": {},
   "cell_type": "markdown",
   "metadata": {},
   "source": [
    "Here we are going to pick features 9, 10, and 38 as they appear to have the highest pearson value for vasc. endo."
   ]
  },
  {
   "cell_type": "code",
   "execution_count": null,
   "metadata": {
    "scrolled": false
   },
   "outputs": [],
   "source": [
    "scProject.viz.featurePlots(dataset_filtered, [9, 10, 38], 'VascEndo', 'UMAPVasc', display=True)"
   ]
  },
  {
   "attachments": {},
   "cell_type": "markdown",
   "metadata": {},
   "source": [
    "Here we see that features 9 and 10 are very clear markers of vascular endothelium in the P6 mouse cortex. Feature 9 and 10 light up the vascular endothelium in the bottom right corner and the small cluster in the middle left. Now, lets run a new regression, but with more lasso. This will force the model to pick the strongest features to see which features are the strongest drivers of vascular endothelium. Here we are going to make it 50% lasso."
   ]
  },
  {
   "cell_type": "code",
   "execution_count": null,
   "metadata": {
    "scrolled": false
   },
   "outputs": [],
   "source": [
    "plt.rcParams['figure.figsize']= [10, 13]\n",
    "scProject.rg.NNLR_ElasticNet(dataset_filtered, patterns_filtered, 'VascEndo50', .0001, .5, layer='log')\n",
    "scProject.viz.pearsonMatrix(dataset_filtered, patterns_filtered, 'assigned_cell_type', 12, 'VascEndo50', 'PearsVasc50', True, row_cluster=False, col_cluster=False,display=True)\n",
    "plt.rcParams['figure.figsize']= [12, 10]\n",
    "scProject.viz.UMAP_Projection(dataset_filtered, 'assigned_cell_type', 'VascEndo50', 'UMAPVasc50', 20,display=True)\n",
    "plt.rcParams['figure.figsize']= [13, 10]\n",
    "scProject.viz.featurePlots(dataset_filtered, [9, 10, 38], 'VascEndo50', 'UMAPVasc50', path='VE/vascFeature', display=False)"
   ]
  },
  {
   "attachments": {},
   "cell_type": "markdown",
   "metadata": {},
   "source": [
    "Feature 9 and 10 stay robust markers and feature 38 persists in those few cells. Let's up the lasso even further to 90%. This encourages even more sparsity and will hopefully confirm that features 9 and 10 are robust markers of vascular endothelium in the P6 mouse cortex."
   ]
  },
  {
   "cell_type": "code",
   "execution_count": null,
   "metadata": {
    "scrolled": false
   },
   "outputs": [],
   "source": [
    "plt.rcParams['figure.figsize']= [10, 12]\n",
    "scProject.rg.NNLR_ElasticNet(dataset_filtered, patterns_filtered, 'VascEndo90', .0005, .99, layer='log')\n",
    "scProject.viz.pearsonMatrix(dataset_filtered, patterns_filtered, 'assigned_cell_type', 11, 'VascEndo90', 'PearsVasc90', True, row_cluster=False, col_cluster=False)\n",
    "plt.rcParams['figure.figsize']= [12, 10]\n",
    "scProject.viz.UMAP_Projection(dataset_filtered, 'assigned_cell_type', 'VascEndo90', 'UMAPVasc90', 20)\n",
    "scProject.viz.featurePlots(dataset_filtered, [9, 10, 38], 'VascEndo90', 'UMAPVasc90')"
   ]
  },
  {
   "attachments": {},
   "cell_type": "markdown",
   "metadata": {},
   "source": [
    "Lastly, check the highly expressed genes in the features of interest to get some sense of what the feature does and if it makes sense biologically."
   ]
  },
  {
   "cell_type": "code",
   "execution_count": null,
   "metadata": {},
   "outputs": [],
   "source": [
    "print(scProject.stats.importantGenes(patterns_filtered, 9, .1), \"Feature 9 Genes\")\n",
    "print(scProject.stats.importantGenes(patterns_filtered, 10, .1), \"Feature 10 Genes\")\n",
    "print(scProject.stats.importantGenes(patterns_filtered, 38, .5), \"Feature 38 Genes\")"
   ]
  },
  {
   "attachments": {},
   "cell_type": "markdown",
   "metadata": {},
   "source": [
    "Now these are ensemble ids so https://www.syngoportal.org/convert.html was used to convert them to gene names.\n",
    "<br>\n",
    "For Feature 9: <br>\n",
    "ENSMUSG00000016494\tCD34 antigen <br>\n",
    "ENSMUSG00000032766\tguanine nucleotide binding protein (G protein), gamma 11 <br>\n",
    "ENSMUSG00000000031\tH19, imprinted maternally expressed transcript <br>\n",
    "ENSMUSG00000007872\tinhibitor of DNA binding 3<br>\n",
    "ENSMUSG00000051855\tmesoderm specific transcript<br>\n",
    "ENSMUSG00000018593\tsecreted acidic cysteine rich glycoprotein<br>\n",
    "ENSMUSG00000079523\tthymosin, beta 10<br>\n",
    "ENSMUSG00000049775\tthymosin, beta 4, X chromosome<br>\n",
    "<br>\n",
    "For Feature 10:<br>\n",
    "ENSMUSG00000016494\tCD34 antigen<br>\n",
    "ENSMUSG00000032766\tguanine nucleotide binding protein (G protein), gamma 11<br>\n",
    "ENSMUSG00000000031\tH19, imprinted maternally expressed transcript<br>\n",
    "ENSMUSG00000032698\tLIM domain only 2\tLmo2<br>\n",
    "ENSMUSG00000051855\tmesoderm specific transcript<br>\n",
    "ENSMUSG00000046402\tretinol binding protein 1, cellular<br>\n",
    "ENSMUSG00000018593\tsecreted acidic cysteine rich glycoprotein<br>\n",
    "ENSMUSG00000079523\tthymosin, beta 10<br>\n",
    "ENSMUSG00000049775\tthymosin, beta 4, X chromosome<br>\n",
    "<br>\n",
    "For Feature 38:<br>\n",
    "ENSMUSG00000069919\themoglobin alpha, adult chain 1<br>\n",
    "<br>\n",
    "It is worth noting that both feature 9 and 10 have mesoderm specific transcript. This makes sense as vascular endothelium originates in the mesoderm. Also, if you lower the threshold in the important genes method you will see more genes that make biological sense for 9 and 10 being expressed in vascular endothelium.\n",
    "<br>\n",
    "For feature 38, since its highest expressed gene is hemoglobin, it would make sense that it is a marker for erythrocytes. It's usage in the doublets makes perfect sense as red blood cells are often in doublets because of their relative size.\n",
    "<br>\n",
    "While it is not a new finding that erythrocytes are in doublets or that vascular endothelium originates in the mesoderm, these examples of recapitulating known biology serves as evidence that scProject is capturing biological processes."
   ]
  },
  {
   "attachments": {},
   "cell_type": "markdown",
   "metadata": {},
   "source": [
    "scProject can be used to show the distribution of mesoderm specific transcript across features. It can also show which features are chosen by the model to contribute to the mesoderm transcript of expression in the samples."
   ]
  },
  {
   "cell_type": "code",
   "execution_count": null,
   "metadata": {
    "scrolled": true
   },
   "outputs": [],
   "source": [
    "scProject.stats.geneSelectivity(patterns_filtered, 'ENSMUSG00000051855', 9, False) # mesoderm\n",
    "scProject.stats.geneSelectivity(patterns_filtered, 'ENSMUSG00000051855', 10, True)\n",
    "scProject.stats.geneDriver(dataset_filtered, patterns_filtered, 'ENSMUSG00000051855', 'assigned_cell_type',\n",
    "                                       \"Vascular Endothelium\", \"VascEndo90\")"
   ]
  },
  {
   "attachments": {},
   "cell_type": "markdown",
   "metadata": {},
   "source": [
    "These two plots show how there are plenty of features that express mesoderm specific transcript, but features 9 and 10 were chosen by the model because of the collection and the respecting weighting of the genes, not just mesoderm specific transcript. Below, we will examine Feature 38 and hemaglobin alpha, adult chain 1."
   ]
  },
  {
   "cell_type": "code",
   "execution_count": null,
   "metadata": {},
   "outputs": [],
   "source": [
    "scProject.stats.geneSelectivity(patterns_filtered, 'ENSMUSG00000069919', 38, True) #Hemoglobin\n",
    "scProject.stats.geneDriver(dataset_filtered, patterns_filtered, 'ENSMUSG00000069919', 'assigned_cell_type',\n",
    "                                       \"Vascular Endothelium\", \"VascEndo90\")"
   ]
  },
  {
   "attachments": {},
   "cell_type": "markdown",
   "metadata": {},
   "source": [
    "The first plot that feature 38 has by far the highest expression of the gene, but the second plot shows that features 9 and 10 are also contributing to the expression of the gene in the sample as the plot is adjusted by actual usage of the features."
   ]
  },
  {
   "cell_type": "code",
   "execution_count": null,
   "metadata": {},
   "outputs": [],
   "source": [
    "import numpy as np\n",
    "scProject.viz.patternWeightDistribution(dataset_filtered, 'VascEndo90', [38], obsColumn='assigned_cell_type', subset=['Vascular Endothelium'], numBins=100)\n",
    "vascEndo38= dataset_filtered[dataset_filtered.obs['assigned_cell_type'].isin(['Vascular Endothelium'])].copy()\n",
    "\n",
    "Express38 = vascEndo38[vascEndo38.obsm['VascEndo90'][:, 37] > 3]\n",
    "Control38 = vascEndo38[vascEndo38.obsm['VascEndo90'][:, 37] <= 3]\n",
    "print(Express38.shape, Control38.shape, vascEndo38.shape)\n",
    "\n",
    "Express38.X = np.log2(Express38.X + 1e-30) #log transform for statistical tests\n",
    "Control38.X = np.log2(Control38.X + 1e-30) #log transform for statistcal tests"
   ]
  },
  {
   "cell_type": "code",
   "execution_count": null,
   "metadata": {},
   "outputs": [],
   "source": [
    "plt.rcParams['figure.figsize']= [5,10]\n",
    "df38 = scProject.stats.projectionDriver(patterns_filtered, Express38, Control38,.999999999999,'gene_short_name', 38, display=False)\n",
    "\n",
    "f38CIs = df38[0]\n",
    "f38CIs['rank'] = (abs(f38CIs['High'])+abs(f38CIs['Low']))/2.0\n",
    "f38CIsRank = f38CIs.sort_values(by='rank', ascending=True)\n",
    "f38CIsRank = f38CIsRank.where(f38CIsRank['rank']>.1)\n",
    "f38CIsRank = f38CIsRank.dropna()\n",
    "print(f38CIsRank)\n",
    "counter = 0\n",
    "yAxis = []\n",
    "plt.rcParams['figure.figsize']= [2, 4]\n",
    "\n",
    "for idx,low, high,y in zip(list(f38CIsRank.index) ,f38CIsRank['Low'], f38CIsRank['High'], range(len(f38CIsRank))):\n",
    "    plt.plot((low, high), (counter, counter), '-', color='blue')\n",
    "    if counter == 0:\n",
    "        plt.plot((float(low+high)/2.0), counter,'o', color='blue', label='Mean')\n",
    "    else:\n",
    "        plt.plot((float(low+high)/2.0), counter,'o', color='blue')\n",
    "    yAxis.append(idx)\n",
    "    counter += 1\n",
    "\n",
    "plt.yticks(range(len(yAxis)), yAxis)\n",
    "plt.title(\"Vasc Endo Feature 38 Ranked\")\n",
    "plt.plot((0,0), (0,len(yAxis)), '--', color='black')\n",
    "plt.ylim(top= len(yAxis)+1)\n",
    "plt.ylim(bottom=-1)\n",
    "plt.legend()\n",
    "\n",
    "import os\n",
    "# Directory path and filename\n",
    "directory = \"VE\"\n",
    "filename = \"VascEndo38.pdf\"\n",
    "\n",
    "# Create the directory if it doesn't exist\n",
    "if not os.path.exists(directory):\n",
    "    os.makedirs(directory)\n",
    "\n",
    "# Combine directory and filename to create the full file path\n",
    "file_path = os.path.join(directory, filename)\n",
    "\n",
    "plt.savefig(file_path, bbox_inches='tight')\n",
    "plt.show()"
   ]
  },
  {
   "cell_type": "code",
   "execution_count": null,
   "metadata": {},
   "outputs": [],
   "source": [
    "plt.rcParams['figure.figsize']= [12, 10]\n",
    "scProject.viz.patternWeightDistribution(dataset_filtered, 'VascEndo90', [9,10], obsColumn='assigned_cell_type', subset=['Vascular Endothelium'], numBins=100)\n",
    "vascEndo= dataset_filtered[dataset_filtered.obs['assigned_cell_type'].isin(['Vascular Endothelium'])].copy()\n",
    "others= dataset_filtered.obs['assigned_cell_type'].unique().remove_categories('Vascular Endothelium')\n",
    "vsAll = dataset_filtered[dataset_filtered.obs['assigned_cell_type'].isin(list(others))].copy()\n",
    "\n",
    "vascEndo.X = np.log2(vascEndo.X + 1e-30) #log transform for statistical tests\n",
    "vsAll.X = np.log2(vsAll.X + 1e-30) #log transform for statistcal tests"
   ]
  },
  {
   "cell_type": "code",
   "execution_count": null,
   "metadata": {},
   "outputs": [],
   "source": [
    "plt.rcParams['figure.figsize']= [5,30]\n",
    "print(\"Feature 9 Projection Drivers\")\n",
    "df9 = scProject.stats.projectionDriver(patterns_filtered, vascEndo, vsAll,.999999999999,'gene_short_name', 9, display=False)\n",
    "f9CIs = df9[0]\n",
    "f9CIs['rank'] = (f9CIs['High']+f9CIs['Low'])/2.0\n",
    "f9CIsRank = f9CIs.sort_values(by='rank', ascending=True)\n",
    "counter = 0\n",
    "yAxis = []\n",
    "plt.rcParams['figure.figsize']= [4, 100]\n",
    "for idx,low, high,y in zip(list(f9CIsRank.index) ,f9CIsRank['Low'], f9CIsRank['High'], range(len(f9CIsRank))):\n",
    "    plt.plot((low, high), (counter, counter), '-', color='blue')\n",
    "    if counter == 0:\n",
    "        plt.plot((float(low+high)/2.0), counter,'o', color='blue', label='Mean')\n",
    "    else:\n",
    "        plt.plot((float(low+high)/2.0), counter,'o', color='blue')\n",
    "    yAxis.append(idx)\n",
    "    counter+=1\n",
    "\n",
    "plt.yticks(range(len(yAxis)), yAxis)\n",
    "plt.title(\"Vascular Endothelium Feature 9 Ranked\")\n",
    "plt.plot((0,0), (0,len(yAxis)), '--', color='black')\n",
    "plt.ylim(top= len(yAxis)+1)\n",
    "plt.ylim(bottom=-1)\n",
    "plt.legend()\n",
    "\n",
    "import os\n",
    "# Directory path and filename\n",
    "directory = \"VE\"\n",
    "filename = \"vascEndoFeature9Exp-ControlRanked.pdf\"\n",
    "\n",
    "# Create the directory if it doesn't exist\n",
    "if not os.path.exists(directory):\n",
    "    os.makedirs(directory)\n",
    "\n",
    "# Combine directory and filename to create the full file path\n",
    "file_path = os.path.join(directory, filename)\n",
    "\n",
    "plt.savefig(file_path, bbox_inches='tight')\n",
    "plt.show()"
   ]
  },
  {
   "cell_type": "code",
   "execution_count": null,
   "metadata": {},
   "outputs": [],
   "source": [
    "print(\"Feature 10 Projection Drivers\")\n",
    "df10 = scProject.stats.projectionDriver(patterns_filtered, vascEndo, vsAll,.999999999999,'gene_short_name', 10, display=False)\n",
    "\n",
    "f10CIs = df10[0]\n",
    "f10CIs['rank'] = (f10CIs['High']+f10CIs['Low'])/2.0\n",
    "f10CIsRank = f10CIs.sort_values(by='rank', ascending=True)\n",
    "counter = 0\n",
    "yAxis = []\n",
    "plt.rcParams['figure.figsize']= [4, 100]\n",
    "\n",
    "for idx,low, high,y in zip(list(f10CIsRank.index) ,f10CIsRank['Low'], f10CIsRank['High'], range(len(f10CIsRank))):\n",
    "    plt.plot((low, high), (counter, counter), '-', color='blue')\n",
    "    if counter == 0:\n",
    "        plt.plot((float(low+high)/2.0), counter,'o', color='blue', label='Mean')\n",
    "    else:\n",
    "        plt.plot((float(low+high)/2.0), counter,'o', color='blue')\n",
    "    yAxis.append(idx)\n",
    "    counter+=1\n",
    "\n",
    "plt.yticks(range(len(yAxis)), yAxis)\n",
    "plt.title(\"Vascular Endothelium Feature 10 Ranked\")\n",
    "plt.plot((0,0), (0,len(yAxis)), '--', color='black')\n",
    "plt.ylim(top= len(yAxis)+1)\n",
    "plt.ylim(bottom=-1)\n",
    "plt.legend()\n",
    "\n",
    "import os\n",
    "# Directory path and filename\n",
    "directory = \"VE\"\n",
    "filename = \"vascEndoFeature10Exp-ControlRanked.pdf\"\n",
    "\n",
    "# Create the directory if it doesn't exist\n",
    "if not os.path.exists(directory):\n",
    "    os.makedirs(directory)\n",
    "\n",
    "# Combine directory and filename to create the full file path\n",
    "file_path = os.path.join(directory, filename)\n",
    "\n",
    "plt.savefig(file_path, bbox_inches='tight')\n",
    "plt.show()"
   ]
  },
  {
   "cell_type": "code",
   "execution_count": 15,
   "metadata": {},
   "outputs": [],
   "source": [
    "genes9 = set(df9[0].index)\n",
    "genes10 = set(df10[0].index)"
   ]
  },
  {
   "cell_type": "code",
   "execution_count": null,
   "metadata": {},
   "outputs": [],
   "source": [
    "in9 = genes9.difference(genes10)\n",
    "just9CIs = df9[0].loc[list(in9)]\n",
    "\n",
    "just9CIs['rank'] = (just9CIs['High']+just9CIs['Low'])/2.0\n",
    "just9CIsRank = just9CIs.sort_values(by='rank', ascending=True)\n",
    "counter = 0\n",
    "yAxis = []\n",
    "plt.rcParams['figure.figsize']= [4, 19]\n",
    "for idx,low, high,y in zip(list(just9CIsRank.index) ,just9CIsRank['Low'], just9CIsRank['High'], range(len(just9CIsRank))):\n",
    "    plt.plot((low, high), (counter, counter), '-', color='blue')\n",
    "    if counter == 0:\n",
    "        plt.plot((float(low+high)/2.0), counter,'o', color='blue', label='Mean')\n",
    "    else:\n",
    "        plt.plot((float(low+high)/2.0), counter,'o', color='blue')\n",
    "    yAxis.append(idx)\n",
    "    counter+=1\n",
    "\n",
    "plt.yticks(range(len(yAxis)), yAxis)\n",
    "plt.title(\"Vascular Endothelium Feature 9 Exclusive Ranked\")\n",
    "plt.plot((0,0), (0,len(yAxis)), '--', color='black')\n",
    "plt.ylim(top= len(yAxis)+1)\n",
    "plt.ylim(bottom=-1)\n",
    "plt.legend()\n",
    "\n",
    "import os\n",
    "# Directory path and filename\n",
    "directory = \"VE\"\n",
    "filename = \"Just9.pdf\"\n",
    "\n",
    "# Create the directory if it doesn't exist\n",
    "if not os.path.exists(directory):\n",
    "    os.makedirs(directory)\n",
    "\n",
    "# Combine directory and filename to create the full file path\n",
    "file_path = os.path.join(directory, filename)\n",
    "\n",
    "plt.savefig(file_path, bbox_inches='tight')\n",
    "plt.show()"
   ]
  },
  {
   "cell_type": "code",
   "execution_count": null,
   "metadata": {},
   "outputs": [],
   "source": [
    "in10 = genes10.difference(genes9)\n",
    "just10CIs = df10[0].loc[list(in10)]\n",
    "\n",
    "just10CIs['rank'] = (just10CIs['High']+just10CIs['Low'])/2.0\n",
    "just10CIsRank = just10CIs.sort_values(by='rank', ascending=True)\n",
    "counter = 0\n",
    "yAxis = []\n",
    "plt.rcParams['figure.figsize']= [4, 14]\n",
    "for idx,low, high,y in zip(list(just10CIsRank.index) ,just10CIsRank['Low'], just10CIsRank['High'], range(len(just10CIsRank))):\n",
    "    plt.plot((low, high), (counter, counter), '-', color='blue')\n",
    "    if counter == 0:\n",
    "        plt.plot((float(low+high)/2.0), counter,'o', color='blue', label='Mean')\n",
    "    else:\n",
    "        plt.plot((float(low+high)/2.0), counter,'o', color='blue')\n",
    "    yAxis.append(idx)\n",
    "    counter+=1\n",
    "\n",
    "plt.yticks(range(len(yAxis)), yAxis)\n",
    "plt.title(\"Vascular Endothelium Feature 10 Exclusive Ranked\")\n",
    "plt.plot((0,0), (0,len(yAxis)), '--', color='black')\n",
    "plt.ylim(top= len(yAxis)+1)\n",
    "plt.ylim(bottom=-1)\n",
    "plt.legend()\n",
    "\n",
    "import os\n",
    "# Directory path and filename\n",
    "directory = \"VE\"\n",
    "filename = \"Just10.pdf\"\n",
    "\n",
    "# Create the directory if it doesn't exist\n",
    "if not os.path.exists(directory):\n",
    "    os.makedirs(directory)\n",
    "\n",
    "# Combine directory and filename to create the full file path\n",
    "file_path = os.path.join(directory, filename)\n",
    "\n",
    "plt.savefig(file_path, bbox_inches='tight')\n",
    "plt.show()"
   ]
  },
  {
   "cell_type": "code",
   "execution_count": null,
   "metadata": {},
   "outputs": [],
   "source": [
    "plt.rcParams['figure.figsize']= [10, 15]\n",
    "scProject.viz.patternWeightDistribution(dataset_filtered, 'VascEndo', [9,10], obsColumn='assigned_cell_type', subset=['Vascular Endothelium'], numBins=200)\n",
    "vascEndo9= dataset_filtered[dataset_filtered.obs['assigned_cell_type'].isin(['Vascular Endothelium'])].copy()\n",
    "\n",
    "Express9 = vascEndo9[vascEndo9.obsm['VascEndo'][:, 8] > 5]\n",
    "Control9 = vascEndo9[vascEndo9.obsm['VascEndo'][:, 8] <= 5]\n",
    "print(Express9.shape, Control9.shape, vascEndo9.shape)\n",
    "\n",
    "Express9.X = np.log2(Express9.X + 1e-30) #log transform for statistical tests\n",
    "Control9.X = np.log2(Control9.X + 1e-30) #log transform for statistcal tests"
   ]
  },
  {
   "cell_type": "code",
   "execution_count": null,
   "metadata": {
    "scrolled": false
   },
   "outputs": [],
   "source": [
    "plt.rcParams['figure.figsize']= [5,10]\n",
    "df9 = scProject.stats.projectionDriver(patterns_filtered, Express9, Control9,.999999999999,'gene_short_name', 9, display=False)\n",
    "\n",
    "f9CIs = df9[0]\n",
    "f9CIs['rank'] = (abs(f9CIs['High'])+abs(f9CIs['Low']))/2.0\n",
    "f9CIsRank = f9CIs.sort_values(by='rank', ascending=True)\n",
    "f9CIsRank = f9CIsRank.where(f9CIsRank['rank']>1)\n",
    "f9CIsRank = f9CIsRank.dropna()\n",
    "print(f9CIsRank)\n",
    "counter = 0\n",
    "yAxis = []\n",
    "plt.rcParams['figure.figsize']= [4, 85]\n",
    "\n",
    "for idx,low, high,y in zip(list(f9CIsRank.index) ,f9CIsRank['Low'], f9CIsRank['High'], range(len(f9CIsRank))):\n",
    "    plt.plot((low, high), (counter, counter), '-', color='blue')\n",
    "    if counter == 0:\n",
    "        plt.plot((float(low+high)/2.0), counter,'o', color='blue', label='Mean')\n",
    "    else:\n",
    "        plt.plot((float(low+high)/2.0), counter,'o', color='blue')\n",
    "    yAxis.append(idx)\n",
    "    counter+=1\n",
    "\n",
    "plt.yticks(range(len(yAxis)), yAxis)\n",
    "plt.title(\"Vasc Endo Express - Control Ranked\")\n",
    "plt.plot((0,0), (0,len(yAxis)), '--', color='black')\n",
    "plt.ylim(top= len(yAxis)+1)\n",
    "plt.ylim(bottom=-1)\n",
    "plt.legend()\n",
    "\n",
    "import os\n",
    "# Directory path and filename\n",
    "directory = \"VE\"\n",
    "filename = \"VascEndo9E-C.pdf\"\n",
    "\n",
    "# Create the directory if it doesn't exist\n",
    "if not os.path.exists(directory):\n",
    "    os.makedirs(directory)\n",
    "\n",
    "# Combine directory and filename to create the full file path\n",
    "file_path = os.path.join(directory, filename)\n",
    "\n",
    "plt.savefig(file_path, bbox_inches='tight')\n",
    "plt.show()"
   ]
  },
  {
   "cell_type": "code",
   "execution_count": null,
   "metadata": {},
   "outputs": [],
   "source": [
    "plt.rcParams['figure.figsize']= [10, 15]\n",
    "scProject.viz.patternWeightDistribution(dataset_filtered, 'VascEndo', [9,10], obsColumn='assigned_cell_type', subset=['Vascular Endothelium'], numBins=200)\n",
    "vascEndo10 = dataset_filtered[dataset_filtered.obs['assigned_cell_type'].isin(['Vascular Endothelium'])].copy()\n",
    "\n",
    "Express10 = vascEndo10[vascEndo10.obsm['VascEndo'][:, 9] > 4.25]\n",
    "Control10 = vascEndo10[vascEndo10.obsm['VascEndo'][:, 9] <= 4.25]\n",
    "print(Express9.shape, Control9.shape, vascEndo9.shape)\n",
    "\n",
    "Express10.X = np.log2(Express10.X + 1e-30) #log transform for statistical tests\n",
    "Control10.X = np.log2(Control10.X + 1e-30) #log transform for statistcal tests\n",
    "plt.rcParams['figure.figsize']= [5,10]\n",
    "\n",
    "df10 = scProject.stats.projectionDriver(patterns_filtered, Express10, Control10,.999999999999,'gene_short_name', 10, display=False)\n",
    "\n",
    "f10CIs = df10[0]\n",
    "f10CIs['rank'] = (abs(f10CIs['High'])+abs(f10CIs['Low']))/2.0\n",
    "f10CIsRank = f10CIs.sort_values(by='rank', ascending=True)\n",
    "f10CIsRank = f10CIsRank.where(f9CIsRank['rank']>1)\n",
    "f10CIsRank = f10CIsRank.dropna()\n",
    "print(f10CIsRank)\n",
    "counter = 0\n",
    "yAxis = []\n",
    "plt.rcParams['figure.figsize']= [4, 80]\n",
    "\n",
    "for idx,low, high,y in zip(list(f10CIsRank.index) ,f10CIsRank['Low'], f10CIsRank['High'], range(len(f10CIsRank))):\n",
    "    plt.plot((low, high), (counter, counter), '-', color='blue')\n",
    "    if counter is 0:\n",
    "        plt.plot((float(low+high)/2.0), counter,'o', color='blue', label='Mean')\n",
    "    else:\n",
    "        plt.plot((float(low+high)/2.0), counter,'o', color='blue')\n",
    "    yAxis.append(idx)\n",
    "    counter+=1\n",
    "\n",
    "plt.yticks(range(len(yAxis)), yAxis)\n",
    "plt.title(\"Vasc Endo 10 Express - Control Ranked\")\n",
    "plt.plot((0,0), (0,len(yAxis)), '--', color='black')\n",
    "plt.ylim(top= len(yAxis)+1)\n",
    "plt.ylim(bottom=-1)\n",
    "plt.legend()\n",
    "\n",
    "import os\n",
    "# Directory path and filename\n",
    "directory = \"VE\"\n",
    "filename = \"VascEndo10E-C.pdf\"\n",
    "\n",
    "# Create the directory if it doesn't exist\n",
    "if not os.path.exists(directory):\n",
    "    os.makedirs(directory)\n",
    "\n",
    "# Combine directory and filename to create the full file path\n",
    "file_path = os.path.join(directory, filename)\n",
    "\n",
    "plt.savefig(file_path, bbox_inches='tight')\n",
    "plt.show()"
   ]
  }
 ],
 "metadata": {
  "kernelspec": {
   "display_name": "Python 3",
   "language": "python",
   "name": "python3"
  },
  "language_info": {
   "codemirror_mode": {
    "name": "ipython",
    "version": 3
   },
   "file_extension": ".py",
   "mimetype": "text/x-python",
   "name": "python",
   "nbconvert_exporter": "python",
   "pygments_lexer": "ipython3",
   "version": "3.7.10"
  }
 },
 "nbformat": 4,
 "nbformat_minor": 4
}
