{
 "cells": [
  {
   "attachments": {},
   "cell_type": "markdown",
   "metadata": {},
   "source": [
    "# Excitatory Neuron Analysis\n",
    "This notebook contains the analysis of the excitatory neurons in the dataset."
   ]
  },
  {
   "cell_type": "code",
   "execution_count": null,
   "metadata": {
    "scrolled": true
   },
   "outputs": [],
   "source": [
    "import scProject\n",
    "import numpy as np\n",
    "import scanpy as sc\n",
    "patterns = sc.read_h5ad('data/patterns_anndata.h5ad')\n",
    "dataset = sc.read_h5ad('data/test_target.h5ad')\n",
    "dataset_filtered, patterns_filtered = scProject.matcher.filterAnnDatas(dataset, patterns, 'gene_id')"
   ]
  },
  {
   "attachments": {},
   "cell_type": "markdown",
   "metadata": {},
   "source": [
    "Weight .001 only 1% lasso to encourage as many features to show up. Then, we will increase the lasso and the regularization to see what drops out."
   ]
  },
  {
   "cell_type": "code",
   "execution_count": null,
   "metadata": {},
   "outputs": [],
   "source": [
    "import matplotlib.pyplot as plt\n",
    "plt.rcParams['figure.figsize']= [10, 12]\n",
    "scProject.rg.NNLR_ElasticNet(dataset_filtered, patterns_filtered, 'EN01', .0001, .01)\n",
    "scProject.viz.pearsonMatrix(dataset_filtered, patterns_filtered, 'CellType', 12, 'EN01', 'PearsonEN01', True)"
   ]
  },
  {
   "cell_type": "code",
   "execution_count": null,
   "metadata": {},
   "outputs": [],
   "source": [
    "plt.rcParams['figure.figsize']= [12, 10]\n",
    "scProject.viz.UMAP_Projection(dataset_filtered, 'CellType', 'EN01', 'UMAPEN01', 20)"
   ]
  },
  {
   "attachments": {},
   "cell_type": "markdown",
   "metadata": {},
   "source": [
    "Since there is so much heterogeneity in excitatory neurons features could have an unimpressive pearson value, but still be a driver of one cluster of excitatory neurons. These features are obviously valuable in uderstanding the sub types of excitatory neurons. While it is inconvenient to look through all of the plots, it is the easiest way to find the interesting ones. For brevity, I condensed it down from the 80 to the interesting ones for this notebook. This is a lot of features so I am going to regress again with a higher lasso to see which ones dropout. There dropout does not mean that they are not important, but rather that they are not the strongest drivers."
   ]
  },
  {
   "cell_type": "code",
   "execution_count": null,
   "metadata": {
    "scrolled": false
   },
   "outputs": [],
   "source": [
    "scProject.viz.featurePlots(dataset_filtered, [15, 19, 36, 53, 63, 65, 67], 'EN01', 'UMAPEN01')"
   ]
  },
  {
   "attachments": {},
   "cell_type": "markdown",
   "metadata": {},
   "source": [
    "While the other features are lighting up some sub types of excitatory neurons feature 36 looks really interesting because it only lights up half of each cluster it is expressed in. Next, I am going to up the lasso to 75% to see which features are the strongest drivers."
   ]
  },
  {
   "cell_type": "code",
   "execution_count": null,
   "metadata": {},
   "outputs": [],
   "source": [
    "plt.rcParams['figure.figsize']= [10, 12]\n",
    "scProject.rg.NNLR_ElasticNet(dataset_filtered, patterns_filtered, 'EN60', .0001, .75)\n",
    "scProject.viz.pearsonMatrix(dataset_filtered, patterns_filtered, 'CellType', 12, 'EN60', 'PearsonEN60', True, row_cluster=False, col_cluster=False)"
   ]
  },
  {
   "cell_type": "code",
   "execution_count": null,
   "metadata": {},
   "outputs": [],
   "source": [
    "plt.rcParams['figure.figsize']= [12, 10]\n",
    "scProject.viz.UMAP_Projection(dataset_filtered, 'CellType', 'EN60', 'UMAPEN60', 20)"
   ]
  },
  {
   "attachments": {},
   "cell_type": "markdown",
   "metadata": {},
   "source": [
    "Because of how scProject is set up we can use the UMAP coordinates from another regression and put new feature weights onto it this can allow the user to see how things changed on the same UMAP coordinates. Feature 20 goes to 0:"
   ]
  },
  {
   "cell_type": "code",
   "execution_count": null,
   "metadata": {
    "scrolled": false
   },
   "outputs": [],
   "source": [
    "scProject.viz.featurePlots(dataset_filtered, [15, 19, 36, 63, 65], 'EN60', 'UMAPEN60')"
   ]
  },
  {
   "cell_type": "code",
   "execution_count": null,
   "metadata": {},
   "outputs": [],
   "source": [
    "print(scProject.stats.importantGenes(patterns_filtered, 36, .1))\n",
    "print(scProject.stats.importantGenes(patterns_filtered, 39, .1))\n",
    "print(scProject.stats.importantGenes(patterns_filtered, 58, .1))\n",
    "print(scProject.stats.importantGenes(patterns_filtered, 19, .1))"
   ]
  },
  {
   "attachments": {},
   "cell_type": "markdown",
   "metadata": {},
   "source": [
    "Now these are ensemble ids so I just used https://www.syngoportal.org/convert.html to convert them to gene names.\n",
    "For Feature 36 the by far highest expressed gene is inactive X specific transcripts(Xist). This dataset is 50% male and 50% female so it would make sense that feature 36 lights up half of the clusters(the female cells).\n",
    "\n",
    "Feature 39:\n",
    "ENSMUSG00000041329\tATPase, Na+/K+ transporting, beta 2 polypeptide\n",
    "ENSMUSG00000001270\tcreatine kinase, brain\n",
    "ENSMUSG00000019874\tfatty acid binding protein 7, brain\n",
    "ENSMUSG00000052727\tmicrotubule-associated protein 1B\n",
    "ENSMUSG00000021268\tmaternally expressed 3\n",
    "\n",
    "Feature 58:\n",
    "ENSMUSG00000021939\tcathepsin B \n",
    "Very sparse cathepsin B is really high.\n"
   ]
  },
  {
   "attachments": {},
   "cell_type": "markdown",
   "metadata": {},
   "source": [
    "Let's visualize the expression of the Xist gene."
   ]
  },
  {
   "cell_type": "code",
   "execution_count": null,
   "metadata": {},
   "outputs": [],
   "source": [
    "scProject.stats.geneSelectivity(patterns_filtered, 'ENSMUSG00000086503', 36, True)"
   ]
  },
  {
   "attachments": {},
   "cell_type": "markdown",
   "metadata": {},
   "source": [
    "Here we confirm that feature 36 is one of the largest \"expressors\" of the Xist in the retina patterns. Since feature 36 is not correlated with a specific cell type, we chose not to use the gene drivers method."
   ]
  },
  {
   "cell_type": "code",
   "execution_count": null,
   "metadata": {
    "scrolled": true
   },
   "outputs": [],
   "source": [
    "exc = dataset_filtered[dataset_filtered.obs['CellType'].isin(['Excitatory Neurons'])]\n",
    "print(exc.shape)\n",
    "E1 = exc[exc.obsm['EN01'][:, 35] > 0]\n",
    "E2 = exc[exc.obsm['EN01'][:, 35] == 0]\n",
    "E1.X = np.log1p(E1.X)\n",
    "E2.X = np.log1p(E2.X)\n",
    "print(E1.X.shape)\n",
    "print(E2.X.shape)"
   ]
  },
  {
   "cell_type": "code",
   "execution_count": null,
   "metadata": {},
   "outputs": [],
   "source": [
    "scProject.stats.HotellingT2(E1, E2)"
   ]
  },
  {
   "cell_type": "code",
   "execution_count": null,
   "metadata": {},
   "outputs": [],
   "source": [
    "df = scProject.stats.BonferroniCorrectedDifferenceMeans(E1, E2, .9999999999999, 'gene_short_name')"
   ]
  },
  {
   "cell_type": "code",
   "execution_count": null,
   "metadata": {},
   "outputs": [],
   "source": [
    "filt = ((df['High']> 0) & (df['Low']>0)) | ((df['High']<0) & (df['Low']<0))\n",
    "df = df[filt]\n",
    "df['diff'] = df['High'].sub(df['Low'], axis = 0) \n",
    "df.sort_values('diff')\n",
    "\n",
    "# This difference shows that the Xist gene has the lowest variance of the genes."
   ]
  }
 ],
 "metadata": {
  "kernelspec": {
   "display_name": "Python 3",
   "language": "python",
   "name": "python3"
  },
  "language_info": {
   "codemirror_mode": {
    "name": "ipython",
    "version": 3
   },
   "file_extension": ".py",
   "mimetype": "text/x-python",
   "name": "python",
   "nbconvert_exporter": "python",
   "pygments_lexer": "ipython3",
   "version": "3.7.6"
  }
 },
 "nbformat": 4,
 "nbformat_minor": 4
}
